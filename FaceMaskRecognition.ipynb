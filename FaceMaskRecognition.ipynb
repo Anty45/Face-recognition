{
  "nbformat": 4,
  "nbformat_minor": 0,
  "metadata": {
    "colab": {
      "name": "Computer-Vision.ipynb",
      "provenance": [],
      "collapsed_sections": []
    },
    "kernelspec": {
      "name": "python3",
      "display_name": "Python 3"
    },
    "accelerator": "GPU"
  },
  "cells": [
    {
      "cell_type": "markdown",
      "metadata": {
        "id": "GxmtVLoaV3o_",
        "colab_type": "text"
      },
      "source": [
        "# Problème de classification \n",
        "\n",
        "* L'objectif est déterminer si il y a un masque sur une image "
      ]
    },
    {
      "cell_type": "code",
      "metadata": {
        "id": "BLfVoK8qf5EO",
        "colab_type": "code",
        "colab": {
          "base_uri": "https://localhost:8080/",
          "height": 306
        },
        "outputId": "5f8ae5ad-9bd0-4c00-9459-631a937ab4db"
      },
      "source": [
        "!pip uninstall keras\n",
        "!pip install keras==2.2.4\n",
        "\n"
      ],
      "execution_count": null,
      "outputs": [
        {
          "output_type": "stream",
          "text": [
            "Uninstalling Keras-2.2.4:\n",
            "  Would remove:\n",
            "    /usr/local/lib/python3.6/dist-packages/Keras-2.2.4.dist-info/*\n",
            "    /usr/local/lib/python3.6/dist-packages/docs/*\n",
            "    /usr/local/lib/python3.6/dist-packages/keras/*\n",
            "  Would not remove (might be manually added):\n",
            "    /usr/local/lib/python3.6/dist-packages/docs/md_autogen.py\n",
            "    /usr/local/lib/python3.6/dist-packages/docs/update_docs.py\n",
            "Proceed (y/n)? \u001b[31mERROR: Operation cancelled by user\u001b[0m\n",
            "Requirement already satisfied: keras==2.2.4 in /usr/local/lib/python3.6/dist-packages (2.2.4)\n",
            "Requirement already satisfied: keras-preprocessing>=1.0.5 in /usr/local/lib/python3.6/dist-packages (from keras==2.2.4) (1.1.2)\n",
            "Requirement already satisfied: numpy>=1.9.1 in /usr/local/lib/python3.6/dist-packages (from keras==2.2.4) (1.18.5)\n",
            "Requirement already satisfied: h5py in /usr/local/lib/python3.6/dist-packages (from keras==2.2.4) (2.10.0)\n",
            "Requirement already satisfied: pyyaml in /usr/local/lib/python3.6/dist-packages (from keras==2.2.4) (3.13)\n",
            "Requirement already satisfied: scipy>=0.14 in /usr/local/lib/python3.6/dist-packages (from keras==2.2.4) (1.4.1)\n",
            "Requirement already satisfied: keras-applications>=1.0.6 in /usr/local/lib/python3.6/dist-packages (from keras==2.2.4) (1.0.8)\n",
            "Requirement already satisfied: six>=1.9.0 in /usr/local/lib/python3.6/dist-packages (from keras==2.2.4) (1.15.0)\n"
          ],
          "name": "stdout"
        }
      ]
    },
    {
      "cell_type": "code",
      "metadata": {
        "id": "wbuLaHjNiTOD",
        "colab_type": "code",
        "colab": {
          "base_uri": "https://localhost:8080/",
          "height": 122
        },
        "outputId": "249779d2-c88d-4b5b-a7f4-2774859a1771"
      },
      "source": [
        "from google.colab import drive\n",
        "drive.mount('/content/drive')\n"
      ],
      "execution_count": null,
      "outputs": [
        {
          "output_type": "stream",
          "text": [
            "Go to this URL in a browser: https://accounts.google.com/o/oauth2/auth?client_id=947318989803-6bn6qk8qdgf4n4g3pfee6491hc0brc4i.apps.googleusercontent.com&redirect_uri=urn%3aietf%3awg%3aoauth%3a2.0%3aoob&response_type=code&scope=email%20https%3a%2f%2fwww.googleapis.com%2fauth%2fdocs.test%20https%3a%2f%2fwww.googleapis.com%2fauth%2fdrive%20https%3a%2f%2fwww.googleapis.com%2fauth%2fdrive.photos.readonly%20https%3a%2f%2fwww.googleapis.com%2fauth%2fpeopleapi.readonly\n",
            "\n",
            "Enter your authorization code:\n",
            "··········\n",
            "Mounted at /content/drive\n"
          ],
          "name": "stdout"
        }
      ]
    },
    {
      "cell_type": "markdown",
      "metadata": {
        "id": "425EAWV1iy49",
        "colab_type": "text"
      },
      "source": [
        "#Chargement du dataset"
      ]
    },
    {
      "cell_type": "code",
      "metadata": {
        "id": "6-b3HOWOzcJ6",
        "colab_type": "code",
        "colab": {}
      },
      "source": [
        "from tensorflow.keras.applications.vgg16 import VGG16\n",
        "from tensorflow.keras.applications.vgg16 import preprocess_input\n",
        "from tensorflow.keras.preprocessing.image import ImageDataGenerator, array_to_img, img_to_array, load_img\n",
        "from tensorflow.keras.models import Model\n",
        "from tensorflow.keras.layers import Dense, GlobalAveragePooling2D, Flatten, Dropout\n"
      ],
      "execution_count": null,
      "outputs": []
    },
    {
      "cell_type": "code",
      "metadata": {
        "id": "m80_zqqyiyO3",
        "colab_type": "code",
        "colab": {}
      },
      "source": [
        "path = '/content/drive/My Drive/MaskDataset/New Masks Dataset/'"
      ],
      "execution_count": null,
      "outputs": []
    },
    {
      "cell_type": "code",
      "metadata": {
        "id": "oJVfLnPeirnE",
        "colab_type": "code",
        "colab": {}
      },
      "source": [
        "# Instanciation du generateur\n",
        "imageGen = ImageDataGenerator(preprocess_input)"
      ],
      "execution_count": null,
      "outputs": []
    },
    {
      "cell_type": "code",
      "metadata": {
        "id": "d-Q-Qwq0irw1",
        "colab_type": "code",
        "colab": {
          "base_uri": "https://localhost:8080/",
          "height": 68
        },
        "outputId": "b20ce21a-2ae2-497e-a3b2-d2dfeeef76e8"
      },
      "source": [
        "# Recuperation par paquet des images\n",
        "train_iterator = imageGen.flow_from_directory(\n",
        "    path + 'Train',\n",
        "    target_size = (1200,780),\n",
        "    color_mode = 'rgb',\n",
        "    batch_size=16,\n",
        "    class_mode='categorical',\n",
        "    shuffle= True\n",
        "    )\n",
        "\n",
        "validation_iterator = imageGen.flow_from_directory(\n",
        "    path + 'Validation',\n",
        "    target_size = (1200,780),\n",
        "    color_mode = 'rgb',\n",
        "    batch_size=16,\n",
        "    class_mode='categorical',\n",
        "    shuffle= True\n",
        "    )\n",
        "\n",
        "test_iterator = imageGen.flow_from_directory(\n",
        "    path + 'Test',\n",
        "    target_size = (1200,780),\n",
        "    color_mode = 'rgb',\n",
        "    batch_size=16,\n",
        "    class_mode='categorical',\n",
        "    shuffle= True\n",
        "    )"
      ],
      "execution_count": null,
      "outputs": [
        {
          "output_type": "stream",
          "text": [
            "Found 600 images belonging to 2 classes.\n",
            "Found 306 images belonging to 2 classes.\n",
            "Found 100 images belonging to 2 classes.\n"
          ],
          "name": "stdout"
        }
      ]
    },
    {
      "cell_type": "markdown",
      "metadata": {
        "id": "wf5dcheLpPtW",
        "colab_type": "text"
      },
      "source": [
        "# Fine-tuning \n",
        "* A partir d'un VGG16 \n",
        "* Application de la technique du Freezing\n"
      ]
    },
    {
      "cell_type": "code",
      "metadata": {
        "id": "nr_xnWSAm2ql",
        "colab_type": "code",
        "colab": {}
      },
      "source": [
        "batch_size = 16 \n",
        "epochs = 8 \n",
        "nb_train_samples = 50\n",
        "nb_validation_samples = 50"
      ],
      "execution_count": null,
      "outputs": []
    },
    {
      "cell_type": "code",
      "metadata": {
        "id": "1C1b16vJiTg1",
        "colab_type": "code",
        "colab": {}
      },
      "source": [
        "model = VGG16(weights = 'imagenet',include_top=False)"
      ],
      "execution_count": null,
      "outputs": []
    },
    {
      "cell_type": "code",
      "metadata": {
        "id": "Cqmt6tUdDnc-",
        "colab_type": "code",
        "colab": {}
      },
      "source": [
        "# create the base pre-trained model\n",
        "base_model = VGG16(weights='imagenet', include_top=False)\n",
        "\n",
        "x = base_model.output\n",
        "x = GlobalAveragePooling2D()(x)\n",
        "x = Dense(1024, activation='relu')(x)\n",
        "x = Dropout(0.5, name='avg_pool_dropout')(x)\n",
        "predictions = Dense(2, activation='softmax')(x)\n",
        "model = Model(inputs=base_model.input, outputs=predictions)\n",
        "\n",
        "for layer in base_model.layers:\n",
        "    layer.trainable = False\n",
        "\n",
        "model.compile(optimizer='rmsprop', loss='categorical_crossentropy', metrics=['accuracy'])"
      ],
      "execution_count": null,
      "outputs": []
    },
    {
      "cell_type": "code",
      "metadata": {
        "id": "_IjCY2v0v1Hf",
        "colab_type": "code",
        "colab": {
          "base_uri": "https://localhost:8080/",
          "height": 343
        },
        "outputId": "473919e7-5a8c-4ffb-cc59-e0c0f5038742"
      },
      "source": [
        "history = model.fit(\n",
        "    train_iterator,\n",
        "    steps_per_epoch=nb_train_samples // batch_size,\n",
        "    epochs=epochs,\n",
        "    validation_data=validation_iterator,\n",
        "    validation_steps=nb_validation_samples // batch_size,\n",
        "    verbose=1)"
      ],
      "execution_count": null,
      "outputs": [
        {
          "output_type": "stream",
          "text": [
            "/usr/local/lib/python3.6/dist-packages/keras_preprocessing/image/image_data_generator.py:720: UserWarning: This ImageDataGenerator specifies `featurewise_center`, but it hasn't been fit on any training data. Fit it first by calling `.fit(numpy_data)`.\n",
            "  warnings.warn('This ImageDataGenerator specifies '\n"
          ],
          "name": "stderr"
        },
        {
          "output_type": "stream",
          "text": [
            "Epoch 1/8\n",
            "3/3 [==============================] - 10s 3s/step - loss: 6.9105 - accuracy: 0.5833 - val_loss: 8.3772 - val_accuracy: 0.5208\n",
            "Epoch 2/8\n",
            "3/3 [==============================] - 11s 4s/step - loss: 2.1147 - accuracy: 0.8125 - val_loss: 0.8764 - val_accuracy: 0.7708\n",
            "Epoch 3/8\n",
            "3/3 [==============================] - 11s 4s/step - loss: 0.5873 - accuracy: 0.8125 - val_loss: 9.1301 - val_accuracy: 0.5000\n",
            "Epoch 4/8\n",
            "3/3 [==============================] - 10s 3s/step - loss: 1.1421 - accuracy: 0.8333 - val_loss: 1.8882 - val_accuracy: 0.6250\n",
            "Epoch 5/8\n",
            "3/3 [==============================] - 10s 3s/step - loss: 0.3750 - accuracy: 0.8958 - val_loss: 0.4714 - val_accuracy: 0.8125\n",
            "Epoch 6/8\n",
            "3/3 [==============================] - 10s 3s/step - loss: 0.6261 - accuracy: 0.8542 - val_loss: 1.2081 - val_accuracy: 0.6042\n",
            "Epoch 7/8\n",
            "3/3 [==============================] - 9s 3s/step - loss: 0.5093 - accuracy: 0.8750 - val_loss: 0.4885 - val_accuracy: 0.8542\n",
            "Epoch 8/8\n",
            "3/3 [==============================] - 10s 3s/step - loss: 0.1282 - accuracy: 0.9583 - val_loss: 0.3241 - val_accuracy: 0.9167\n"
          ],
          "name": "stdout"
        }
      ]
    },
    {
      "cell_type": "markdown",
      "metadata": {
        "id": "sKdTFD1bTFcZ",
        "colab_type": "text"
      },
      "source": [
        "# Monitoring \n"
      ]
    },
    {
      "cell_type": "code",
      "metadata": {
        "id": "E8o4KHiiIQ_a",
        "colab_type": "code",
        "colab": {
          "base_uri": "https://localhost:8080/",
          "height": 573
        },
        "outputId": "93325dfe-a60e-4b5e-8570-abbe85f75a32"
      },
      "source": [
        "from matplotlib import pyplot as plt \n",
        "import numpy as np\n",
        "# Plot training & validation accuracy values\n",
        "plt.plot(history.history['accuracy'])\n",
        "plt.plot(history.history['val_accuracy'])\n",
        "plt.title('Model accuracy')\n",
        "plt.ylabel('Accuracy')\n",
        "plt.xlabel('Epoch')\n",
        "plt.legend(['Train', 'Test'], loc='upper left')\n",
        "plt.show()\n",
        "\n",
        "# Plot training & validation loss values\n",
        "plt.plot(history.history['loss'])\n",
        "plt.plot(history.history['val_loss'])\n",
        "plt.title('Model loss')\n",
        "plt.ylabel('Loss')\n",
        "plt.xlabel('Epoch')\n",
        "plt.legend(['Train', 'Test'], loc='upper left')\n",
        "plt.show()"
      ],
      "execution_count": 35,
      "outputs": [
        {
          "output_type": "display_data",
          "data": {
            "image/png": "[encoded data removed]",
            "text/plain": [
              "<Figure size 432x288 with 1 Axes>"
            ]
          },
          "metadata": {
            "tags": [],
            "needs_background": "light"
          }
        },
        {
          "output_type": "display_data",
          "data": {
            "image/png": "[encoded data removed]",
            "text/plain": [
              "<Figure size 432x288 with 1 Axes>"
            ]
          },
          "metadata": {
            "tags": [],
            "needs_background": "light"
          }
        }
      ]
    },
    {
      "cell_type": "markdown",
      "metadata": {
        "id": "vBbhw1shTJau",
        "colab_type": "text"
      },
      "source": [
        "# Evaluation "
      ]
    },
    {
      "cell_type": "code",
      "metadata": {
        "id": "NBI08bcjO2r_",
        "colab_type": "code",
        "colab": {
          "base_uri": "https://localhost:8080/",
          "height": 105
        },
        "outputId": "cb1c0a03-1c73-4816-d141-163536782922"
      },
      "source": [
        "evaluation = model.evaluate(test_iterator)\n",
        "print(\"[test loss , test acc]\",evaluation)"
      ],
      "execution_count": 37,
      "outputs": [
        {
          "output_type": "stream",
          "text": [
            "/usr/local/lib/python3.6/dist-packages/keras_preprocessing/image/image_data_generator.py:720: UserWarning: This ImageDataGenerator specifies `featurewise_center`, but it hasn't been fit on any training data. Fit it first by calling `.fit(numpy_data)`.\n",
            "  warnings.warn('This ImageDataGenerator specifies '\n"
          ],
          "name": "stderr"
        },
        {
          "output_type": "stream",
          "text": [
            "7/7 [==============================] - 10s 1s/step - loss: 0.2368 - accuracy: 0.8900\n",
            "[test loss , test acc] [0.2368401736021042, 0.8899999856948853]\n"
          ],
          "name": "stdout"
        }
      ]
    },
    {
      "cell_type": "code",
      "metadata": {
        "id": "mx012v8fO3Rh",
        "colab_type": "code",
        "colab": {}
      },
      "source": [
        ""
      ],
      "execution_count": null,
      "outputs": []
    },
    {
      "cell_type": "code",
      "metadata": {
        "id": "0vUIVx5IVvYA",
        "colab_type": "code",
        "colab": {}
      },
      "source": [
        ""
      ],
      "execution_count": null,
      "outputs": []
    }
  ]
}